{
  "nbformat": 4,
  "nbformat_minor": 0,
  "metadata": {
    "kernelspec": {
      "display_name": "Python 3",
      "language": "python",
      "name": "python3"
    },
    "language_info": {
      "codemirror_mode": {
        "name": "ipython",
        "version": 3
      },
      "file_extension": ".py",
      "mimetype": "text/x-python",
      "name": "python",
      "nbconvert_exporter": "python",
      "pygments_lexer": "ipython3",
      "version": "3.7.6"
    },
    "colab": {
      "name": "2. Datasets and transforms.ipynb",
      "provenance": [],
      "collapsed_sections": []
    }
  },
  "cells": [
    {
      "cell_type": "markdown",
      "metadata": {
        "id": "J2Pxob5uZzrX",
        "colab_type": "text"
      },
      "source": [
        "# Medical image analysis with PyTorch\n",
        "\n",
        "Create a deep convolutional network for an image translation task with PyTorch from scratch and train it on a subset of the IXI dataset for a T1-w to T2-w transformation."
      ]
    },
    {
      "cell_type": "markdown",
      "metadata": {
        "id": "aAb4fV9oZzsM",
        "colab_type": "text"
      },
      "source": [
        "## Step 2: Datasets and transforms\n",
        "\n",
        "### Milestone 2.1 (Dataset class)"
      ]
    },
    {
      "cell_type": "code",
      "metadata": {
        "id": "Jmqz2iykZzsM",
        "colab_type": "code",
        "colab": {}
      },
      "source": [
        "def glob_imgs(path: str, ext='*.nii*') -> List[str]:\n",
        "    \"\"\" grab all `ext` files in a directory and sort them for consistency \"\"\"\n",
        "    fns = sorted(glob(os.path.join(path, ext)))\n",
        "    return fns\n",
        "\n",
        "\n",
        "class NiftiDataset(Dataset):\n",
        "    \"\"\"\n",
        "    create a dataset class in PyTorch for reading NIfTI files\n",
        "\n",
        "    Args:\n",
        "        source_dir (str): path to source images\n",
        "        target_dir (str): path to target images\n",
        "        transform (Callable): transform to apply to both source and target images\n",
        "        preload (bool): load all data when initializing the dataset\n",
        "    \"\"\"\n",
        "\n",
        "    def __init__(self, source_dir:str, target_dir:str, transform:Optional[Callable]=None, preload:bool=True):\n",
        "        self.source_dir, self.target_dir = source_dir, target_dir\n",
        "        self.source_fns, self.target_fns = glob_imgs(source_dir), glob_imgs(target_dir)\n",
        "        self.transform = transform\n",
        "        self.preload = preload\n",
        "        if len(self.source_fns) != len(self.target_fns) or len(self.source_fns) == 0:\n",
        "            raise ValueError(f'Number of source and target images must be equal and non-zero')\n",
        "        if preload:\n",
        "            self.imgs = [(nib.load(s).get_data().astype(np.float32), \n",
        "                          nib.load(t).get_data().astype(np.float32))\n",
        "                         for s, t in zip(self.source_fns, self.target_fns)]\n",
        "\n",
        "    def __len__(self):\n",
        "        return len(self.source_fns)\n",
        "\n",
        "    def __getitem__(self, idx:int):\n",
        "        if not self.preload:\n",
        "            src_fn, tgt_fn = self.source_fns[idx], self.target_fns[idx]\n",
        "            sample = (nib.load(src_fn).get_data(), nib.load(tgt_fn).get_data())\n",
        "        else:\n",
        "            sample = self.imgs[idx]\n",
        "        if self.transform is not None:\n",
        "            sample = self.transform(sample)\n",
        "        return sample"
      ],
      "execution_count": 0,
      "outputs": []
    },
    {
      "cell_type": "markdown",
      "metadata": {
        "id": "4u5DtwbbZzsP",
        "colab_type": "text"
      },
      "source": [
        "### Milestone 2.2 (Transforms)"
      ]
    },
    {
      "cell_type": "code",
      "metadata": {
        "id": "NePdQtEYZzsP",
        "colab_type": "code",
        "colab": {}
      },
      "source": [
        "class BaseTransform:\n",
        "    def __repr__(self): return f'{self.__class__.__name__}'\n",
        "\n",
        "\n",
        "class ToTensor(BaseTransform):\n",
        "    \"\"\" Convert images in sample to Tensors \"\"\"\n",
        "    def __call__(self, sample:Tuple[np.ndarray,np.ndarray]) -> Tuple[torch.Tensor,torch.Tensor]:\n",
        "        src, tgt = sample\n",
        "        return torch.from_numpy(src), torch.from_numpy(tgt)\n",
        "\n",
        "    \n",
        "class CropBase(BaseTransform):\n",
        "    \"\"\" base class for crop transform \"\"\"\n",
        "\n",
        "    def __init__(self, out_dim:int, output_size:Union[tuple,int,list], threshold:Optional[float]=None):\n",
        "        \"\"\" provide the common functionality for RandomCrop2D and RandomCrop3D \"\"\"\n",
        "        assert isinstance(output_size, (int, tuple, list))\n",
        "        if isinstance(output_size, int):\n",
        "            self.output_size = (output_size,)\n",
        "            for _ in range(out_dim - 1):\n",
        "                self.output_size += (output_size,)\n",
        "        else:\n",
        "            assert len(output_size) == out_dim\n",
        "            self.output_size = output_size\n",
        "        self.out_dim = out_dim\n",
        "        self.thresh = threshold\n",
        "\n",
        "    def _get_sample_idxs(self, img:np.ndarray) -> Tuple[int,int,int]:\n",
        "        \"\"\" get the set of indices from which to sample (foreground) \"\"\"\n",
        "        mask = np.where(img >= (img.mean() if self.thresh is None else self.thresh))  # returns a tuple of length 3\n",
        "        c = np.random.randint(0, len(mask[0]))  # choose the set of idxs to use\n",
        "        h, w, d = [m[c] for m in mask]  # pull out the chosen idxs\n",
        "        return h, w, d\n",
        "\n",
        "    def __repr__(self):\n",
        "        s = '{name}(output_size={output_size}, threshold={thresh})'\n",
        "        d = dict(self.__dict__)\n",
        "        return s.format(name=self.__class__.__name__, **d)\n",
        "\n",
        "    \n",
        "class RandomCrop3D(CropBase):\n",
        "    \"\"\"\n",
        "    Randomly crop a 3d patch from a (pair of) 3d image\n",
        "\n",
        "    Args:\n",
        "        output_size (tuple or int): Desired output size.\n",
        "            If int, cube crop is made.\n",
        "    \"\"\"\n",
        "\n",
        "    def __init__(self, output_size:Union[tuple,int,list], threshold:Optional[float]=None):\n",
        "        super().__init__(3, output_size, threshold)\n",
        "\n",
        "    def __call__(self, sample:Tuple[np.ndarray,np.ndarray]) -> Tuple[np.ndarray,np.ndarray]:\n",
        "        src, tgt = sample\n",
        "        *cs, h, w, d = src.shape\n",
        "        *ct, _, _, _ = tgt.shape\n",
        "        hh, ww, dd = self.output_size\n",
        "        max_idxs = (h-hh//2, w-ww//2, d-dd//2)\n",
        "        min_idxs = (hh//2, ww//2, dd//2)\n",
        "        s = src[0] if len(cs) > 0 else src  # use the first image to determine sampling if multimodal\n",
        "        s_idxs = super()._get_sample_idxs(s)\n",
        "        i, j, k = [i if min_i <= i <= max_i else max_i if i > max_i else min_i\n",
        "                   for max_i, min_i, i in zip(max_idxs, min_idxs, s_idxs)]\n",
        "        oh = 0 if hh % 2 == 0 else 1\n",
        "        ow = 0 if ww % 2 == 0 else 1\n",
        "        od = 0 if dd % 2 == 0 else 1\n",
        "        s = src[..., i-hh//2:i+hh//2+oh, j-ww//2:j+ww//2+ow, k-dd//2:k+dd//2+od]\n",
        "        t = tgt[..., i-hh//2:i+hh//2+oh, j-ww//2:j+ww//2+ow, k-dd//2:k+dd//2+od]\n",
        "        if len(cs) == 0: s = s[np.newaxis,...]  # add channel axis if empty\n",
        "        if len(ct) == 0: t = t[np.newaxis,...]\n",
        "        return s, t"
      ],
      "execution_count": 0,
      "outputs": []
    }
  ]
}