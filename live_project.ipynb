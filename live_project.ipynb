{
  "nbformat": 4,
  "nbformat_minor": 0,
  "metadata": {
    "colab": {
      "name": "live_project.ipynb",
      "provenance": [],
      "authorship_tag": "ABX9TyNDfD3pwxi3p3BSHLb3slKN",
      "include_colab_link": true
    },
    "kernelspec": {
      "name": "python3",
      "display_name": "Python 3"
    }
  },
  "cells": [
    {
      "cell_type": "markdown",
      "metadata": {
        "id": "view-in-github",
        "colab_type": "text"
      },
      "source": [
        "<a href=\"https://colab.research.google.com/github/landge/pytorch_mri/blob/master/live_project.ipynb\" target=\"_parent\"><img src=\"https://colab.research.google.com/assets/colab-badge.svg\" alt=\"Open In Colab\"/></a>"
      ]
    },
    {
      "cell_type": "code",
      "metadata": {
        "id": "tPj3JzzDICfQ",
        "colab_type": "code",
        "outputId": "5ab2787e-e2c2-48d4-d8d3-4ba539419d06",
        "colab": {
          "base_uri": "https://localhost:8080/",
          "height": 34
        }
      },
      "source": [
        "import os, sys\n",
        "from google.colab import drive\n",
        "from pathlib import Path\n",
        "drive.mount('/content/gdrive', force_remount=True)"
      ],
      "execution_count": 1,
      "outputs": [
        {
          "output_type": "stream",
          "text": [
            "Mounted at /content/gdrive\n"
          ],
          "name": "stdout"
        }
      ]
    },
    {
      "cell_type": "code",
      "metadata": {
        "id": "zBbXvw0lrOhW",
        "colab_type": "code",
        "outputId": "0b6afedc-8d4c-4f05-dfc5-1cd3b84be09e",
        "colab": {
          "base_uri": "https://localhost:8080/",
          "height": 136
        }
      },
      "source": [
        "!pip install nilearn"
      ],
      "execution_count": 2,
      "outputs": [
        {
          "output_type": "stream",
          "text": [
            "Requirement already satisfied: nilearn in /usr/local/lib/python3.6/dist-packages (0.6.2)\n",
            "Requirement already satisfied: sklearn in /usr/local/lib/python3.6/dist-packages (from nilearn) (0.0)\n",
            "Requirement already satisfied: joblib>=0.11 in /usr/local/lib/python3.6/dist-packages (from nilearn) (0.15.1)\n",
            "Requirement already satisfied: numpy>=1.11 in /usr/local/lib/python3.6/dist-packages (from nilearn) (1.18.4)\n",
            "Requirement already satisfied: scipy>=0.19 in /usr/local/lib/python3.6/dist-packages (from nilearn) (1.4.1)\n",
            "Requirement already satisfied: nibabel>=2.0.2 in /usr/local/lib/python3.6/dist-packages (from nilearn) (3.0.2)\n",
            "Requirement already satisfied: scikit-learn>=0.19 in /usr/local/lib/python3.6/dist-packages (from nilearn) (0.22.2.post1)\n"
          ],
          "name": "stdout"
        }
      ]
    },
    {
      "cell_type": "code",
      "metadata": {
        "id": "mGZzjj_trIQ8",
        "colab_type": "code",
        "colab": {}
      },
      "source": [
        "import nibabel as nib\n",
        "from nilearn.plotting import plot_anat\n",
        "import matplotlib.pyplot as plt\n",
        "import imageio\n",
        "import numpy as np\n",
        "%matplotlib inline\n",
        "from IPython.display import display"
      ],
      "execution_count": 0,
      "outputs": []
    },
    {
      "cell_type": "markdown",
      "metadata": {
        "id": "ctS5WKxWN174",
        "colab_type": "text"
      },
      "source": [
        ""
      ]
    },
    {
      "cell_type": "markdown",
      "metadata": {
        "id": "ANk9Y7S9v1u8",
        "colab_type": "text"
      },
      "source": [
        "## Milestone 1"
      ]
    },
    {
      "cell_type": "code",
      "metadata": {
        "id": "ff8Ei3guMD8o",
        "colab_type": "code",
        "colab": {}
      },
      "source": [
        "root_dir = '/content/gdrive/My Drive/live_project/data/small'"
      ],
      "execution_count": 0,
      "outputs": []
    },
    {
      "cell_type": "code",
      "metadata": {
        "id": "5g5mG_5NM_KG",
        "colab_type": "code",
        "colab": {}
      },
      "source": [
        "p = Path(root_dir)\n",
        "t1 = p/'t1'\n",
        "t2 = p/'t2'"
      ],
      "execution_count": 0,
      "outputs": []
    },
    {
      "cell_type": "code",
      "metadata": {
        "id": "ftrmM-4BNTlC",
        "colab_type": "code",
        "colab": {}
      },
      "source": [
        "t1_paths = [f for f in t1.glob('*')]\n",
        "t2_paths = [f for f in t2.glob('*')]"
      ],
      "execution_count": 0,
      "outputs": []
    },
    {
      "cell_type": "code",
      "metadata": {
        "id": "6UP2jgQ0NXfj",
        "colab_type": "code",
        "colab": {}
      },
      "source": [
        "t1_subjects = [x.name[:6] for x in t1_paths]\n",
        "t2_subjects = [x.name[:6] for x in t2_paths]\n",
        "assert t1_subjects.sort() == t2_paths.sort()\n",
        "subs = t1_subjects"
      ],
      "execution_count": 0,
      "outputs": []
    },
    {
      "cell_type": "code",
      "metadata": {
        "id": "oaHLePRWB3st",
        "colab_type": "code",
        "colab": {}
      },
      "source": [
        "t1_and_t2_dict = {sub[0]: {'t1':sub[1], 't2':sub[2]} for sub in zip(subs, t1_paths, t2_paths)}"
      ],
      "execution_count": 0,
      "outputs": []
    },
    {
      "cell_type": "code",
      "metadata": {
        "id": "PiOj7mLYD3J7",
        "colab_type": "code",
        "colab": {}
      },
      "source": [
        "def plot_mris(image_pair):\n",
        "  \n",
        "  fig, ax = plt.subplots(nrows=1, ncols=2, figsize=(16,9))\n",
        "\n",
        "  ax[0].imshow(image_pair['t1'][5,:,:], cmap='gray', origin='lower')\n",
        "  print(image_pair['t1'].shape)\n",
        "  ax[0].set_title('T1')\n",
        "  ax[1].imshow(image_pair['t2'][5,:,:], cmap='gray', origin='lower')\n",
        "  ax[1].set_title('T2')\n",
        "\n",
        "  plt.show()\n",
        "  "
      ],
      "execution_count": 0,
      "outputs": []
    },
    {
      "cell_type": "code",
      "metadata": {
        "id": "fH9SUQVpd0QK",
        "colab_type": "code",
        "outputId": "e5a3d5ca-c5f2-4555-cf5c-30711eccd440",
        "colab": {
          "base_uri": "https://localhost:8080/",
          "height": 235
        }
      },
      "source": [
        "plot_anat(t1_and_t2_dict[subs[0]]['t1'].as_posix())"
      ],
      "execution_count": 10,
      "outputs": [
        {
          "output_type": "execute_result",
          "data": {
            "text/plain": [
              "<nilearn.plotting.displays.OrthoSlicer at 0x7fdf6c9eebe0>"
            ]
          },
          "metadata": {
            "tags": []
          },
          "execution_count": 10
        },
        {
          "output_type": "display_data",
          "data": {
            "image/png": "[encoded data removed]",
            "text/plain": [
              "<Figure size 475.2x187.2 with 4 Axes>"
            ]
          },
          "metadata": {
            "tags": []
          }
        }
      ]
    },
    {
      "cell_type": "markdown",
      "metadata": {
        "id": "O7lAhiKBx1BZ",
        "colab_type": "text"
      },
      "source": [
        "## Milestone 2"
      ]
    },
    {
      "cell_type": "code",
      "metadata": {
        "id": "5Y_2qX8zzuys",
        "colab_type": "code",
        "colab": {}
      },
      "source": [
        "from torch.utils.data.dataset import Dataset"
      ],
      "execution_count": 0,
      "outputs": []
    },
    {
      "cell_type": "code",
      "metadata": {
        "id": "hziSP5z20Itk",
        "colab_type": "code",
        "outputId": "bc75c689-c014-4e65-c6d5-a1a036bbb410",
        "colab": {
          "base_uri": "https://localhost:8080/",
          "height": 34
        }
      },
      "source": [
        "t2"
      ],
      "execution_count": 12,
      "outputs": [
        {
          "output_type": "execute_result",
          "data": {
            "text/plain": [
              "PosixPath('/content/gdrive/My Drive/live_project/data/small/t2')"
            ]
          },
          "metadata": {
            "tags": []
          },
          "execution_count": 12
        }
      ]
    },
    {
      "cell_type": "code",
      "metadata": {
        "id": "XjRYDLTa8Jb7",
        "colab_type": "code",
        "colab": {}
      },
      "source": [
        "from collections import namedtuple"
      ],
      "execution_count": 0,
      "outputs": []
    },
    {
      "cell_type": "code",
      "metadata": {
        "id": "JeLBspa9uFKQ",
        "colab_type": "code",
        "colab": {}
      },
      "source": [
        "class NiftiDataset(Dataset):\n",
        "  \"\"\"\n",
        "  Create a dataset class in PyTorch for reading NifTI files.\n",
        "\n",
        "  Args:\n",
        "        source_dir (str): path to source images\n",
        "        target_dir (str): path to target images\n",
        "        transforms (Callable): transform to apply to both target and source images.\n",
        "  \n",
        "  \"\"\"\n",
        "  def __init__(self, source_dir, target_dir, transform=None):\n",
        "    \"\"\"\n",
        "    Path should be python Path-objects!\n",
        "    \n",
        "    \"\"\"\n",
        "    self.source_dir = source_dir if isinstance(source_dir, Path) else Path(source_dir)\n",
        "    self.target_dir = target_dir if isinstance(target_dir, Path) else Path(target_dir)\n",
        "\n",
        "    self.transform = transform\n",
        "\n",
        "    self.source_niftis = sorted([nifti for nifti in self.source_dir.glob('*.nii.gz')])  \n",
        "    self.target_niftis = sorted([nifti for nifti in self.target_dir.glob('*.nii.gz')])\n",
        "\n",
        "    self.len_source_niftis = len(self.source_niftis)\n",
        "    self.len_target_niftis = len(self.target_niftis)\n",
        "\n",
        "    assert self.len_source_niftis == self.len_target_niftis , f\"Different numbers of source and target images! Source images: {self.len_source_niftis}! Target images: {self.len_target_niftis}\"\n",
        "    \n",
        "    self.image_pairs = [{'t1': image_pair[0], 't2': image_pair[1]} for image_pair in zip(self.source_niftis, self.target_niftis)]\n",
        "\n",
        "  def __len__(self):\n",
        "    return len(self.source_niftis)\n",
        "    \n",
        "  def __getitem__(self, idx):\n",
        "    image_pair = self.image_pairs[idx]\n",
        "    image_data = {}\n",
        "\n",
        "    for contrast, image in image_pair.items():\n",
        "      image_data[contrast] = nib.load(image).get_fdata()[30:,:,:]\n",
        "\n",
        "    if self.transform:\n",
        "      image_data = (self.transform(image_data))\n",
        "      return image_data\n",
        "    else:\n",
        "      return image_data\n",
        "\n"
      ],
      "execution_count": 0,
      "outputs": []
    },
    {
      "cell_type": "code",
      "metadata": {
        "id": "EkeA7xog6C7A",
        "colab_type": "code",
        "outputId": "e26e4fab-d301-4441-9813-86f50442c24e",
        "colab": {
          "base_uri": "https://localhost:8080/",
          "height": 538
        }
      },
      "source": [
        "plot_mris(test[0])"
      ],
      "execution_count": 22,
      "outputs": [
        {
          "output_type": "stream",
          "text": [
            "90 120 90\n",
            "23 41 61\n",
            "33 51 71\n",
            "(10, 10, 10)\n"
          ],
          "name": "stdout"
        },
        {
          "output_type": "display_data",
          "data": {
            "image/png": "[encoded data removed]",
            "text/plain": [
              "<Figure size 1152x648 with 2 Axes>"
            ]
          },
          "metadata": {
            "tags": [],
            "needs_background": "light"
          }
        }
      ]
    },
    {
      "cell_type": "code",
      "metadata": {
        "id": "C0vIaGSsy_bY",
        "colab_type": "code",
        "colab": {}
      },
      "source": [
        "class RandomCrop3D(object):\n",
        "  \"\"\"\n",
        "  Randomly crop a 3d patch from a (pair of) 3d images.\n",
        "\n",
        "  Args:\n",
        "    output_size (tuple or int): Desired output size.\n",
        "        If int, cube crop is made.\n",
        "  \"\"\"\n",
        "  def __init__(self, output_size):\n",
        "    assert isinstance(output_size, (int, tuple))\n",
        "    if isinstance(output_size, int):\n",
        "      self.output_size = (output_size, output_size, output_size)\n",
        "    else:\n",
        "      assert len(output_size) == 3\n",
        "      self.output_size = output_size\n",
        "    print(self.output_size)\n",
        "\n",
        "  \n",
        "  def __call__(self, image_pair):\n",
        "    assert image_pair['t1'].shape == image_pair['t2'].shape\n",
        "    trans_output = {}\n",
        "    x_size, y_size, z_size = image_pair['t1'].shape\n",
        "    #print(x_size, y_size, z_size)\n",
        "    x_ran = np.random.randint(0, x_size - self.output_size[0])\n",
        "    y_ran = np.random.randint(0, y_size - self.output_size[1])\n",
        "    z_ran = np.random.randint(0, z_size - self.output_size[2])\n",
        "    #print(x_ran, y_ran, z_ran)\n",
        "    x_tran = x_ran + self.output_size[0] \n",
        "    y_tran = y_ran + self.output_size[1]\n",
        "    z_tran = z_ran + self.output_size[2]\n",
        "    #print(x_tran, y_tran, z_tran)\n",
        "    \n",
        "\n",
        "    for contrast in ['t1','t2']:\n",
        "       trans_output[contrast] = image_pair[contrast][x_ran:x_tran, y_ran:y_tran, z_ran:z_tran]\n",
        "    \n",
        "    return trans_output\n",
        "\n",
        "\n",
        "\n",
        "    \n",
        "    \n",
        "\n",
        "\n"
      ],
      "execution_count": 0,
      "outputs": []
    },
    {
      "cell_type": "code",
      "metadata": {
        "id": "WemBufKFfC2K",
        "colab_type": "code",
        "outputId": "3ed76466-0e5b-4151-fdab-91e52848a83a",
        "colab": {
          "base_uri": "https://localhost:8080/",
          "height": 34
        }
      },
      "source": [
        "crop = RandomCrop3D(10)"
      ],
      "execution_count": 18,
      "outputs": [
        {
          "output_type": "stream",
          "text": [
            "(10, 10, 10)\n"
          ],
          "name": "stdout"
        }
      ]
    },
    {
      "cell_type": "code",
      "metadata": {
        "id": "gzE9WPlc3s75",
        "colab_type": "code",
        "colab": {}
      },
      "source": [
        "test = NiftiDataset(t1, t2, crop)"
      ],
      "execution_count": 0,
      "outputs": []
    },
    {
      "cell_type": "code",
      "metadata": {
        "id": "3yddn4drFSAl",
        "colab_type": "code",
        "colab": {}
      },
      "source": [
        ""
      ],
      "execution_count": 0,
      "outputs": []
    }
  ]
}