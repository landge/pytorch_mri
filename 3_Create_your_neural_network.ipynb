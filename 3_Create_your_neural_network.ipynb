{
  "nbformat": 4,
  "nbformat_minor": 0,
  "metadata": {
    "kernelspec": {
      "display_name": "Python 3",
      "language": "python",
      "name": "python3"
    },
    "language_info": {
      "codemirror_mode": {
        "name": "ipython",
        "version": 3
      },
      "file_extension": ".py",
      "mimetype": "text/x-python",
      "name": "python",
      "nbconvert_exporter": "python",
      "pygments_lexer": "ipython3",
      "version": "3.7.6"
    },
    "colab": {
      "name": "3. Create your neural network.ipynb",
      "provenance": [],
      "collapsed_sections": []
    }
  },
  "cells": [
    {
      "cell_type": "markdown",
      "metadata": {
        "id": "6Ass8hx0aPaE",
        "colab_type": "text"
      },
      "source": [
        "# Medical image analysis with PyTorch\n",
        "\n",
        "Create a deep convolutional network for an image translation task with PyTorch from scratch and train it on a subset of the IXI dataset for a T1-w to T2-w transformation."
      ]
    },
    {
      "cell_type": "markdown",
      "metadata": {
        "id": "20VGtg9gaPbF",
        "colab_type": "text"
      },
      "source": [
        "## Step 3: Create your neural network\n",
        "\n",
        "### Milestone 3"
      ]
    },
    {
      "cell_type": "code",
      "metadata": {
        "id": "CUb_TdY3aPbG",
        "colab_type": "code",
        "colab": {}
      },
      "source": [
        "def conv(i,o):\n",
        "    return (nn.Conv3d(i,o,3,padding=1,bias=False), \n",
        "            nn.BatchNorm3d(o), \n",
        "            nn.ReLU(inplace=True))\n",
        "\n",
        "def unet_block(i,m,o):\n",
        "    return nn.Sequential(*conv(i,m),*conv(m,o))\n",
        "\n",
        "class Unet(nn.Module):\n",
        "    def __init__(self, s=32):\n",
        "        super().__init__()\n",
        "        self.start = unet_block(1,s,s)\n",
        "        self.down1 = unet_block(s,s*2,s*2)\n",
        "        self.down2 = unet_block(s*2,s*4,s*4)\n",
        "        self.bridge = unet_block(s*4,s*8,s*4)\n",
        "        self.up2 = unet_block(s*8,s*4,s*2)\n",
        "        self.up1 = unet_block(s*4,s*2,s)\n",
        "        self.final = nn.Sequential(*conv(s*2,s),nn.Conv3d(s,1,1))\n",
        "    \n",
        "    def forward(self,x):\n",
        "        r = [self.start(x)]\n",
        "        r.append(self.down1(F.max_pool3d(r[-1],2)))\n",
        "        r.append(self.down2(F.max_pool3d(r[-1],2)))\n",
        "        x = F.interpolate(self.bridge(F.max_pool3d(r[-1],2)),size=r[-1].shape[2:])\n",
        "        x = F.interpolate(self.up2(torch.cat((x,r[-1]),dim=1)),size=r[-2].shape[2:])\n",
        "        x = F.interpolate(self.up1(torch.cat((x,r[-2]),dim=1)),size=r[-3].shape[2:])\n",
        "        x = self.final(torch.cat((x,r[-3]),dim=1))\n",
        "        return x\n"
      ],
      "execution_count": 0,
      "outputs": []
    }
  ]
}